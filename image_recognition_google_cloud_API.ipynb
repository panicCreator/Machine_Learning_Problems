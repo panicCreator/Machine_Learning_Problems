{
 "cells": [
  {
   "cell_type": "code",
   "execution_count": 3,
   "metadata": {},
   "outputs": [],
   "source": [
    "from base64 import b64encode\n",
    "\n",
    "import googleapiclient.discovery\n",
    "from oauth2client.client import GoogleCredentials"
   ]
  },
  {
   "cell_type": "code",
   "execution_count": 4,
   "metadata": {},
   "outputs": [],
   "source": [
    "# Settings\n",
    "IMAGE_FILE = \"beach_image.jpg\"\n",
    "CREDENTIALS_FILE = \"credentials.json\""
   ]
  },
  {
   "cell_type": "code",
   "execution_count": 5,
   "metadata": {},
   "outputs": [],
   "source": [
    "# Connect to the Google Cloud-ML Service\n",
    "credentials = GoogleCredentials.from_stream(CREDENTIALS_FILE)\n",
    "service = googleapiclient.discovery.build('vision', 'v1', credentials=credentials)"
   ]
  },
  {
   "cell_type": "code",
   "execution_count": 6,
   "metadata": {},
   "outputs": [],
   "source": [
    "# Read file and convert it to a base64 encoding\n",
    "with open(IMAGE_FILE, \"rb\") as f:\n",
    "    image_data = f.read()\n",
    "    encoded_image_data = b64encode(image_data).decode('UTF-8')"
   ]
  },
  {
   "cell_type": "code",
   "execution_count": 7,
   "metadata": {},
   "outputs": [],
   "source": [
    "# Create the request object for the Google Vision API\n",
    "batch_request = [{\n",
    "    'image': {\n",
    "        'content': encoded_image_data\n",
    "    },\n",
    "    'features': [\n",
    "        {\n",
    "            'type': 'LABEL_DETECTION'\n",
    "        }\n",
    "    ]\n",
    "}]\n",
    "request = service.images().annotate(body={'requests': batch_request})"
   ]
  },
  {
   "cell_type": "code",
   "execution_count": 8,
   "metadata": {},
   "outputs": [],
   "source": [
    "# Send the request to Google\n",
    "response = request.execute()"
   ]
  },
  {
   "cell_type": "code",
   "execution_count": 9,
   "metadata": {},
   "outputs": [],
   "source": [
    "# Check for errors\n",
    "if 'error' in response:\n",
    "    raise RuntimeError(response['error'])"
   ]
  },
  {
   "cell_type": "code",
   "execution_count": 10,
   "metadata": {},
   "outputs": [
    {
     "name": "stdout",
     "output_type": "stream",
     "text": [
      "People on beach 0.9840688\n",
      "Tropics 0.96857953\n",
      "Beach 0.95441496\n",
      "Vacation 0.9438394\n",
      "Caribbean 0.9368592\n",
      "Palm tree 0.93234146\n",
      "Tree 0.9210567\n",
      "Turquoise 0.88290983\n",
      "Arecales 0.87720174\n",
      "Outdoor furniture 0.8352041\n"
     ]
    }
   ],
   "source": [
    "# Print the results\n",
    "labels = response['responses'][0]['labelAnnotations']\n",
    "\n",
    "for label in labels:\n",
    "    print(label['description'], label['score'])"
   ]
  }
 ],
 "metadata": {
  "kernelspec": {
   "display_name": "Python 3",
   "language": "python",
   "name": "python3"
  },
  "language_info": {
   "codemirror_mode": {
    "name": "ipython",
    "version": 3
   },
   "file_extension": ".py",
   "mimetype": "text/x-python",
   "name": "python",
   "nbconvert_exporter": "python",
   "pygments_lexer": "ipython3",
   "version": "3.7.1"
  }
 },
 "nbformat": 4,
 "nbformat_minor": 2
}
