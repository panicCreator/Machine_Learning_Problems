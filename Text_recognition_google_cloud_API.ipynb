{
 "cells": [
  {
   "cell_type": "code",
   "execution_count": 5,
   "metadata": {},
   "outputs": [],
   "source": [
    "import googleapiclient.discovery\n",
    "\n",
    "from base64 import b64encode\n",
    "from oauth2client.client import GoogleCredentials"
   ]
  },
  {
   "cell_type": "code",
   "execution_count": 6,
   "metadata": {},
   "outputs": [],
   "source": [
    "# Settings\n",
    "IMAGE_FILE = \"handwritten_poem2.jpg\"\n",
    "CREDENTIALS_FILE = \"credentials.json\"\n",
    "\n",
    "# Connect to the Google Cloud-ML Service\n",
    "credentials = GoogleCredentials.from_stream(CREDENTIALS_FILE)\n",
    "service = googleapiclient.discovery.build('vision', 'v1', credentials=credentials)\n",
    "\n",
    "# Read file and convert it to a base64 encoding\n",
    "with open(IMAGE_FILE, \"rb\") as f:\n",
    "    image_data = f.read()\n",
    "    encoded_image_data = b64encode(image_data).decode('UTF-8')\n",
    "\n",
    "# Create the request object for the Google Vision API\n",
    "batch_request = [{\n",
    "    'image': {\n",
    "        'content': encoded_image_data\n",
    "    },\n",
    "    'features': [\n",
    "        {\n",
    "            'type': 'TEXT_DETECTION'\n",
    "        }\n",
    "    ]\n",
    "}]\n",
    "request = service.images().annotate(body={'requests': batch_request})\n",
    "\n",
    "# Send the request to Google\n",
    "response = request.execute()\n",
    "\n",
    "# Check for errors\n",
    "if 'error' in response:\n",
    "    raise RuntimeError(response['error'])"
   ]
  },
  {
   "cell_type": "code",
   "execution_count": 7,
   "metadata": {},
   "outputs": [
    {
     "name": "stdout",
     "output_type": "stream",
     "text": [
      "Mon sonj\n",
      "ng\n",
      "l am dead nthe morn.na-\n",
      "an ald vessel who useJ ur her al,\n",
      "blaak and pal- bened.\n",
      "No miracle.No daaale\n",
      "but u ore tallner bette dres\n",
      "and acanye for your poxn\n",
      "ias always auirgin,\n",
      "ol and pitted\n",
      "efore -he world was, I uas\n",
      "\n",
      "{'vertices': [{'x': 75, 'y': 22}, {'x': 364, 'y': 22}, {'x': 364, 'y': 365}, {'x': 75, 'y': 365}]}\n"
     ]
    }
   ],
   "source": [
    "# Print the results\n",
    "extracted_texts = response['responses'][0]['textAnnotations']\n",
    "\n",
    "# Print the first piece of text found in the image\n",
    "extracted_text = extracted_texts[0]\n",
    "print(extracted_text['description'])\n",
    "\n",
    "# Print the location where the text was detected\n",
    "print(extracted_text['boundingPoly'])"
   ]
  }
 ],
 "metadata": {
  "kernelspec": {
   "display_name": "Python 3",
   "language": "python",
   "name": "python3"
  },
  "language_info": {
   "codemirror_mode": {
    "name": "ipython",
    "version": 3
   },
   "file_extension": ".py",
   "mimetype": "text/x-python",
   "name": "python",
   "nbconvert_exporter": "python",
   "pygments_lexer": "ipython3",
   "version": "3.7.1"
  }
 },
 "nbformat": 4,
 "nbformat_minor": 2
}
