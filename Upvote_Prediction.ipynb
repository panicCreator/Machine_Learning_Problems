{
 "cells": [
  {
   "cell_type": "code",
   "execution_count": 21,
   "metadata": {},
   "outputs": [],
   "source": [
    "#importing modules\n",
    "import pandas as pd\n",
    "import re\n",
    "import numpy as np\n",
    "from sklearn.linear_model import Lasso\n",
    "from sklearn.linear_model import LinearRegression\n",
    "from sklearn.model_selection import train_test_split\n",
    "from sklearn.metrics import mean_squared_error\n",
    "from sklearn.ensemble import GradientBoostingRegressor"
   ]
  },
  {
   "cell_type": "code",
   "execution_count": 4,
   "metadata": {},
   "outputs": [],
   "source": [
    "#downloading and reading the datasets\n",
    "train_dataset = pd.read_csv('train_dataset.csv')\n",
    "test_dataset = pd.read_csv('test_dataset.csv')"
   ]
  },
  {
   "cell_type": "code",
   "execution_count": 7,
   "metadata": {},
   "outputs": [
    {
     "data": {
      "text/html": [
       "<div>\n",
       "<style scoped>\n",
       "    .dataframe tbody tr th:only-of-type {\n",
       "        vertical-align: middle;\n",
       "    }\n",
       "\n",
       "    .dataframe tbody tr th {\n",
       "        vertical-align: top;\n",
       "    }\n",
       "\n",
       "    .dataframe thead th {\n",
       "        text-align: right;\n",
       "    }\n",
       "</style>\n",
       "<table border=\"1\" class=\"dataframe\">\n",
       "  <thead>\n",
       "    <tr style=\"text-align: right;\">\n",
       "      <th></th>\n",
       "      <th>Reputation</th>\n",
       "      <th>Answers</th>\n",
       "      <th>Views</th>\n",
       "    </tr>\n",
       "  </thead>\n",
       "  <tbody>\n",
       "    <tr>\n",
       "      <th>0</th>\n",
       "      <td>3942.0</td>\n",
       "      <td>2.0</td>\n",
       "      <td>7855.0</td>\n",
       "    </tr>\n",
       "    <tr>\n",
       "      <th>1</th>\n",
       "      <td>26046.0</td>\n",
       "      <td>12.0</td>\n",
       "      <td>55801.0</td>\n",
       "    </tr>\n",
       "    <tr>\n",
       "      <th>2</th>\n",
       "      <td>1358.0</td>\n",
       "      <td>4.0</td>\n",
       "      <td>8067.0</td>\n",
       "    </tr>\n",
       "    <tr>\n",
       "      <th>3</th>\n",
       "      <td>264.0</td>\n",
       "      <td>3.0</td>\n",
       "      <td>27064.0</td>\n",
       "    </tr>\n",
       "    <tr>\n",
       "      <th>4</th>\n",
       "      <td>4271.0</td>\n",
       "      <td>4.0</td>\n",
       "      <td>13986.0</td>\n",
       "    </tr>\n",
       "  </tbody>\n",
       "</table>\n",
       "</div>"
      ],
      "text/plain": [
       "   Reputation  Answers    Views\n",
       "0      3942.0      2.0   7855.0\n",
       "1     26046.0     12.0  55801.0\n",
       "2      1358.0      4.0   8067.0\n",
       "3       264.0      3.0  27064.0\n",
       "4      4271.0      4.0  13986.0"
      ]
     },
     "execution_count": 7,
     "metadata": {},
     "output_type": "execute_result"
    }
   ],
   "source": [
    "dataset_after_feature_removal = train_dataset.loc[:,['Reputation', 'Answers', 'Views']]\n",
    "dataset_after_feature_removal.head()"
   ]
  },
  {
   "cell_type": "code",
   "execution_count": 8,
   "metadata": {},
   "outputs": [],
   "source": [
    "x_train, x_val, y_train, y_val = train_test_split(dataset_after_feature_removal, train_dataset['Upvotes'], test_size = 0.3)"
   ]
  },
  {
   "cell_type": "code",
   "execution_count": 22,
   "metadata": {},
   "outputs": [
    {
     "data": {
      "text/plain": [
       "GradientBoostingRegressor(alpha=0.9, criterion='friedman_mse', init=None,\n",
       "             learning_rate=0.1, loss='ls', max_depth=6, max_features=None,\n",
       "             max_leaf_nodes=None, min_impurity_decrease=0.0,\n",
       "             min_impurity_split=None, min_samples_leaf=1,\n",
       "             min_samples_split=2, min_weight_fraction_leaf=0.0,\n",
       "             n_estimators=100, n_iter_no_change=None, presort='auto',\n",
       "             random_state=None, subsample=1.0, tol=0.0001,\n",
       "             validation_fraction=0.1, verbose=0, warm_start=False)"
      ]
     },
     "execution_count": 22,
     "metadata": {},
     "output_type": "execute_result"
    }
   ],
   "source": [
    "#model_linear = LinearRegression()\n",
    "#model_linear.fit(x_train, y_train)\n",
    "\n",
    "model_gradient_boosting = GradientBoostingRegressor(learning_rate = 0.1, n_estimators = 100, max_depth = 6)\n",
    "model_gradient_boosting.fit(x_train, y_train)"
   ]
  },
  {
   "cell_type": "code",
   "execution_count": 31,
   "metadata": {},
   "outputs": [
    {
     "name": "stdout",
     "output_type": "stream",
     "text": [
      "[  43.93772428   54.58401203   73.47709149   30.76320253    5.0384127\n",
      "  537.66506007    5.45698048   66.56298321  494.40717104   93.32546308\n",
      "   29.67584896   13.28037631    5.10910044   30.80925546  228.35370628\n",
      "   11.31201419    3.70222648    5.9321477    27.06424112    6.94678217\n",
      "   27.71724367  156.60326159    4.77866136   79.60552698  412.16010562\n",
      "   39.36475484   15.36176869   19.01793497 1194.76473836   17.80884428\n",
      "   35.34958967   25.21568902   46.06931145   11.39035301   10.29140046\n",
      "   30.65191938   17.55361804   21.8621       37.98574979  467.45547454\n",
      "  750.71250542    6.68703082  525.05478517  250.12113479  140.02344569\n",
      "   10.29140046    4.77866136  116.46829075    4.41507668]\n",
      "229728     92.0\n",
      "183779     39.0\n",
      "158451     74.0\n",
      "89465      45.0\n",
      "8177        1.0\n",
      "305385    675.0\n",
      "251129      9.0\n",
      "45238     111.0\n",
      "181509    195.0\n",
      "137579    132.0\n",
      "34351      11.0\n",
      "110806      3.0\n",
      "276176      0.0\n",
      "77420      10.0\n",
      "186750    161.0\n",
      "174506     19.0\n",
      "266834     12.0\n",
      "24216       0.0\n",
      "167518     56.0\n",
      "227840      5.0\n",
      "182334      6.0\n",
      "70568      78.0\n",
      "166804      2.0\n",
      "214042    260.0\n",
      "324203    329.0\n",
      "249131     18.0\n",
      "192753      1.0\n",
      "97503       6.0\n",
      "178714    838.0\n",
      "105943     13.0\n",
      "187114     28.0\n",
      "8489        9.0\n",
      "216132     15.0\n",
      "156962     27.0\n",
      "99016       1.0\n",
      "15734      11.0\n",
      "317970      8.0\n",
      "94065       5.0\n",
      "281584     18.0\n",
      "65826     264.0\n",
      "236922    623.0\n",
      "68140       2.0\n",
      "109745    568.0\n",
      "229249    194.0\n",
      "134946     67.0\n",
      "241823      2.0\n",
      "54896       3.0\n",
      "160917     83.0\n",
      "302288     13.0\n",
      "Name: Upvotes, dtype: float64\n"
     ]
    }
   ],
   "source": [
    "pred = model_gradient_boosting.predict(x_val)\n",
    "print(pred[1:50])\n",
    "print(y_val[1:50])"
   ]
  },
  {
   "cell_type": "code",
   "execution_count": 30,
   "metadata": {},
   "outputs": [
    {
     "data": {
      "text/plain": [
       "3449937.4194599395"
      ]
     },
     "execution_count": 30,
     "metadata": {},
     "output_type": "execute_result"
    }
   ],
   "source": [
    "mean_squared_error(y_val, pred)"
   ]
  },
  {
   "cell_type": "code",
   "execution_count": 36,
   "metadata": {},
   "outputs": [],
   "source": [
    "#submission\n",
    "test_dataset_x = test_dataset.loc[:,['Reputation', 'Answers', 'Views']]\n",
    "prediction_of_upvotes = model_gradient_boosting.predict(test_dataset_x)\n",
    "\n",
    "test_dataset_ID = test_dataset.loc[:, 'ID']\n",
    "\n",
    "submission = pd.DataFrame(list(zip(test_dataset_ID, prediction_of_upvotes)), columns=['ID', 'Upvotes'])\n",
    "\n",
    "submission.to_csv('upvotes_prediction_gradient_boosting.csv', index=False)"
   ]
  }
 ],
 "metadata": {
  "kernelspec": {
   "display_name": "Python 3",
   "language": "python",
   "name": "python3"
  },
  "language_info": {
   "codemirror_mode": {
    "name": "ipython",
    "version": 3
   },
   "file_extension": ".py",
   "mimetype": "text/x-python",
   "name": "python",
   "nbconvert_exporter": "python",
   "pygments_lexer": "ipython3",
   "version": "3.7.1"
  }
 },
 "nbformat": 4,
 "nbformat_minor": 2
}
